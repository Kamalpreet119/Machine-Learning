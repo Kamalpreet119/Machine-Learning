{
 "cells": [
  {
   "cell_type": "code",
   "execution_count": 1,
   "id": "612d60a6",
   "metadata": {},
   "outputs": [],
   "source": [
    "import numpy as np\n",
    "import pandas as pd\n",
    "import matplotlib.pyplot as plt"
   ]
  },
  {
   "cell_type": "code",
   "execution_count": 2,
   "id": "8df6ee9f",
   "metadata": {},
   "outputs": [
    {
     "data": {
      "text/html": [
       "<div>\n",
       "<style scoped>\n",
       "    .dataframe tbody tr th:only-of-type {\n",
       "        vertical-align: middle;\n",
       "    }\n",
       "\n",
       "    .dataframe tbody tr th {\n",
       "        vertical-align: top;\n",
       "    }\n",
       "\n",
       "    .dataframe thead th {\n",
       "        text-align: right;\n",
       "    }\n",
       "</style>\n",
       "<table border=\"1\" class=\"dataframe\">\n",
       "  <thead>\n",
       "    <tr style=\"text-align: right;\">\n",
       "      <th></th>\n",
       "      <th>Flow Duration</th>\n",
       "      <th>Tot Fwd Pkts</th>\n",
       "      <th>Tot Bwd Pkts</th>\n",
       "      <th>TotLen Fwd Pkts</th>\n",
       "      <th>TotLen Bwd Pkts</th>\n",
       "      <th>Fwd Pkt Len Max</th>\n",
       "      <th>Fwd Pkt Len Min</th>\n",
       "      <th>Fwd Pkt Len Mean</th>\n",
       "      <th>Fwd Pkt Len Std</th>\n",
       "      <th>Bwd Pkt Len Max</th>\n",
       "      <th>...</th>\n",
       "      <th>Fwd Seg Size Min</th>\n",
       "      <th>Active Mean</th>\n",
       "      <th>Active Std</th>\n",
       "      <th>Active Max</th>\n",
       "      <th>Active Min</th>\n",
       "      <th>Idle Mean</th>\n",
       "      <th>Idle Std</th>\n",
       "      <th>Idle Max</th>\n",
       "      <th>Idle Min</th>\n",
       "      <th>category</th>\n",
       "    </tr>\n",
       "  </thead>\n",
       "  <tbody>\n",
       "    <tr>\n",
       "      <th>0</th>\n",
       "      <td>119646801</td>\n",
       "      <td>17</td>\n",
       "      <td>16</td>\n",
       "      <td>597</td>\n",
       "      <td>768</td>\n",
       "      <td>293</td>\n",
       "      <td>0</td>\n",
       "      <td>35.125000</td>\n",
       "      <td>97.0625</td>\n",
       "      <td>384</td>\n",
       "      <td>...</td>\n",
       "      <td>20</td>\n",
       "      <td>45580.5</td>\n",
       "      <td>32287.847656</td>\n",
       "      <td>131880</td>\n",
       "      <td>32165</td>\n",
       "      <td>9922286.0</td>\n",
       "      <td>281712.5625</td>\n",
       "      <td>10014561</td>\n",
       "      <td>9030908</td>\n",
       "      <td>0</td>\n",
       "    </tr>\n",
       "    <tr>\n",
       "      <th>1</th>\n",
       "      <td>375</td>\n",
       "      <td>2</td>\n",
       "      <td>1</td>\n",
       "      <td>38</td>\n",
       "      <td>0</td>\n",
       "      <td>38</td>\n",
       "      <td>0</td>\n",
       "      <td>19.000000</td>\n",
       "      <td>26.8750</td>\n",
       "      <td>0</td>\n",
       "      <td>...</td>\n",
       "      <td>20</td>\n",
       "      <td>0.0</td>\n",
       "      <td>0.000000</td>\n",
       "      <td>0</td>\n",
       "      <td>0</td>\n",
       "      <td>0.0</td>\n",
       "      <td>0.0000</td>\n",
       "      <td>0</td>\n",
       "      <td>0</td>\n",
       "      <td>0</td>\n",
       "    </tr>\n",
       "    <tr>\n",
       "      <th>2</th>\n",
       "      <td>281</td>\n",
       "      <td>3</td>\n",
       "      <td>0</td>\n",
       "      <td>46</td>\n",
       "      <td>0</td>\n",
       "      <td>46</td>\n",
       "      <td>0</td>\n",
       "      <td>15.335938</td>\n",
       "      <td>26.5625</td>\n",
       "      <td>0</td>\n",
       "      <td>...</td>\n",
       "      <td>20</td>\n",
       "      <td>0.0</td>\n",
       "      <td>0.000000</td>\n",
       "      <td>0</td>\n",
       "      <td>0</td>\n",
       "      <td>0.0</td>\n",
       "      <td>0.0000</td>\n",
       "      <td>0</td>\n",
       "      <td>0</td>\n",
       "      <td>0</td>\n",
       "    </tr>\n",
       "    <tr>\n",
       "      <th>3</th>\n",
       "      <td>99999555</td>\n",
       "      <td>2</td>\n",
       "      <td>2</td>\n",
       "      <td>16</td>\n",
       "      <td>0</td>\n",
       "      <td>8</td>\n",
       "      <td>8</td>\n",
       "      <td>8.000000</td>\n",
       "      <td>0.0000</td>\n",
       "      <td>0</td>\n",
       "      <td>...</td>\n",
       "      <td>32</td>\n",
       "      <td>1.0</td>\n",
       "      <td>0.000000</td>\n",
       "      <td>1</td>\n",
       "      <td>1</td>\n",
       "      <td>99999552.0</td>\n",
       "      <td>0.0000</td>\n",
       "      <td>99999553</td>\n",
       "      <td>99999553</td>\n",
       "      <td>4</td>\n",
       "    </tr>\n",
       "    <tr>\n",
       "      <th>4</th>\n",
       "      <td>10070086</td>\n",
       "      <td>4</td>\n",
       "      <td>4</td>\n",
       "      <td>379</td>\n",
       "      <td>408</td>\n",
       "      <td>379</td>\n",
       "      <td>0</td>\n",
       "      <td>94.750000</td>\n",
       "      <td>189.5000</td>\n",
       "      <td>408</td>\n",
       "      <td>...</td>\n",
       "      <td>20</td>\n",
       "      <td>0.0</td>\n",
       "      <td>0.000000</td>\n",
       "      <td>0</td>\n",
       "      <td>0</td>\n",
       "      <td>0.0</td>\n",
       "      <td>0.0000</td>\n",
       "      <td>0</td>\n",
       "      <td>0</td>\n",
       "      <td>0</td>\n",
       "    </tr>\n",
       "  </tbody>\n",
       "</table>\n",
       "<p>5 rows × 69 columns</p>\n",
       "</div>"
      ],
      "text/plain": [
       "   Flow Duration  Tot Fwd Pkts  Tot Bwd Pkts  TotLen Fwd Pkts  \\\n",
       "0      119646801            17            16              597   \n",
       "1            375             2             1               38   \n",
       "2            281             3             0               46   \n",
       "3       99999555             2             2               16   \n",
       "4       10070086             4             4              379   \n",
       "\n",
       "   TotLen Bwd Pkts  Fwd Pkt Len Max  Fwd Pkt Len Min  Fwd Pkt Len Mean  \\\n",
       "0              768              293                0         35.125000   \n",
       "1                0               38                0         19.000000   \n",
       "2                0               46                0         15.335938   \n",
       "3                0                8                8          8.000000   \n",
       "4              408              379                0         94.750000   \n",
       "\n",
       "   Fwd Pkt Len Std  Bwd Pkt Len Max  ...  Fwd Seg Size Min  Active Mean  \\\n",
       "0          97.0625              384  ...                20      45580.5   \n",
       "1          26.8750                0  ...                20          0.0   \n",
       "2          26.5625                0  ...                20          0.0   \n",
       "3           0.0000                0  ...                32          1.0   \n",
       "4         189.5000              408  ...                20          0.0   \n",
       "\n",
       "     Active Std  Active Max  Active Min   Idle Mean     Idle Std  Idle Max  \\\n",
       "0  32287.847656      131880       32165   9922286.0  281712.5625  10014561   \n",
       "1      0.000000           0           0         0.0       0.0000         0   \n",
       "2      0.000000           0           0         0.0       0.0000         0   \n",
       "3      0.000000           1           1  99999552.0       0.0000  99999553   \n",
       "4      0.000000           0           0         0.0       0.0000         0   \n",
       "\n",
       "   Idle Min  category  \n",
       "0   9030908         0  \n",
       "1         0         0  \n",
       "2         0         0  \n",
       "3  99999553         4  \n",
       "4         0         0  \n",
       "\n",
       "[5 rows x 69 columns]"
      ]
     },
     "execution_count": 2,
     "metadata": {},
     "output_type": "execute_result"
    }
   ],
   "source": [
    "df0=pd.read_csv(\"2018_Best_Dtypes.csv\")\n",
    "df0.loc[68,\"Column\"]=\"category\"\n",
    "dict1={}\n",
    "for i in range(df0.shape[0]):\n",
    "    dict1[df0[\"Column\"][i]]=df0[\"Dtype\"][i]\n",
    "df=pd.read_csv(\"Data10.csv\",dtype=dict1)\n",
    "df.head()"
   ]
  },
  {
   "cell_type": "code",
   "execution_count": 5,
   "id": "2c3a480c",
   "metadata": {},
   "outputs": [
    {
     "name": "stdout",
     "output_type": "stream",
     "text": [
      "Collecting imbalanced-learn\n",
      "  Using cached imbalanced_learn-0.11.0-py3-none-any.whl (235 kB)\n",
      "Requirement already satisfied: numpy>=1.17.3 in c:\\python3.10\\lib\\site-packages (from imbalanced-learn) (1.23.2)\n",
      "Requirement already satisfied: scipy>=1.5.0 in c:\\python3.10\\lib\\site-packages (from imbalanced-learn) (1.9.1)\n",
      "Requirement already satisfied: scikit-learn>=1.0.2 in c:\\python3.10\\lib\\site-packages (from imbalanced-learn) (1.1.2)\n",
      "Requirement already satisfied: joblib>=1.1.1 in c:\\python3.10\\lib\\site-packages (from imbalanced-learn) (1.2.0)\n",
      "Requirement already satisfied: threadpoolctl>=2.0.0 in c:\\python3.10\\lib\\site-packages (from imbalanced-learn) (3.1.0)\n",
      "Installing collected packages: imbalanced-learn\n",
      "Successfully installed imbalanced-learn-0.11.0\n",
      "Note: you may need to restart the kernel to use updated packages.\n"
     ]
    },
    {
     "name": "stderr",
     "output_type": "stream",
     "text": [
      "\n",
      "[notice] A new release of pip is available: 23.1.2 -> 23.2.1\n",
      "[notice] To update, run: C:\\Python3.10\\python.exe -m pip install --upgrade pip\n"
     ]
    }
   ],
   "source": [
    "pip install imbalanced-learn"
   ]
  },
  {
   "cell_type": "code",
   "execution_count": 3,
   "id": "4fd23669",
   "metadata": {},
   "outputs": [
    {
     "data": {
      "text/html": [
       "<div>\n",
       "<style scoped>\n",
       "    .dataframe tbody tr th:only-of-type {\n",
       "        vertical-align: middle;\n",
       "    }\n",
       "\n",
       "    .dataframe tbody tr th {\n",
       "        vertical-align: top;\n",
       "    }\n",
       "\n",
       "    .dataframe thead th {\n",
       "        text-align: right;\n",
       "    }\n",
       "</style>\n",
       "<table border=\"1\" class=\"dataframe\">\n",
       "  <thead>\n",
       "    <tr style=\"text-align: right;\">\n",
       "      <th></th>\n",
       "      <th>Flow Duration</th>\n",
       "      <th>Tot Fwd Pkts</th>\n",
       "      <th>Tot Bwd Pkts</th>\n",
       "      <th>TotLen Fwd Pkts</th>\n",
       "      <th>TotLen Bwd Pkts</th>\n",
       "      <th>Fwd Pkt Len Max</th>\n",
       "      <th>Fwd Pkt Len Min</th>\n",
       "      <th>Fwd Pkt Len Mean</th>\n",
       "      <th>Fwd Pkt Len Std</th>\n",
       "      <th>Bwd Pkt Len Max</th>\n",
       "      <th>...</th>\n",
       "      <th>Fwd Act Data Pkts</th>\n",
       "      <th>Fwd Seg Size Min</th>\n",
       "      <th>Active Mean</th>\n",
       "      <th>Active Std</th>\n",
       "      <th>Active Max</th>\n",
       "      <th>Active Min</th>\n",
       "      <th>Idle Mean</th>\n",
       "      <th>Idle Std</th>\n",
       "      <th>Idle Max</th>\n",
       "      <th>Idle Min</th>\n",
       "    </tr>\n",
       "  </thead>\n",
       "  <tbody>\n",
       "    <tr>\n",
       "      <th>0</th>\n",
       "      <td>119646801</td>\n",
       "      <td>17</td>\n",
       "      <td>16</td>\n",
       "      <td>597</td>\n",
       "      <td>768</td>\n",
       "      <td>293</td>\n",
       "      <td>0</td>\n",
       "      <td>35.125000</td>\n",
       "      <td>97.0625</td>\n",
       "      <td>384</td>\n",
       "      <td>...</td>\n",
       "      <td>13</td>\n",
       "      <td>20</td>\n",
       "      <td>45580.5</td>\n",
       "      <td>32287.847656</td>\n",
       "      <td>131880</td>\n",
       "      <td>32165</td>\n",
       "      <td>9922286.0</td>\n",
       "      <td>281712.5625</td>\n",
       "      <td>10014561</td>\n",
       "      <td>9030908</td>\n",
       "    </tr>\n",
       "    <tr>\n",
       "      <th>1</th>\n",
       "      <td>375</td>\n",
       "      <td>2</td>\n",
       "      <td>1</td>\n",
       "      <td>38</td>\n",
       "      <td>0</td>\n",
       "      <td>38</td>\n",
       "      <td>0</td>\n",
       "      <td>19.000000</td>\n",
       "      <td>26.8750</td>\n",
       "      <td>0</td>\n",
       "      <td>...</td>\n",
       "      <td>0</td>\n",
       "      <td>20</td>\n",
       "      <td>0.0</td>\n",
       "      <td>0.000000</td>\n",
       "      <td>0</td>\n",
       "      <td>0</td>\n",
       "      <td>0.0</td>\n",
       "      <td>0.0000</td>\n",
       "      <td>0</td>\n",
       "      <td>0</td>\n",
       "    </tr>\n",
       "    <tr>\n",
       "      <th>2</th>\n",
       "      <td>281</td>\n",
       "      <td>3</td>\n",
       "      <td>0</td>\n",
       "      <td>46</td>\n",
       "      <td>0</td>\n",
       "      <td>46</td>\n",
       "      <td>0</td>\n",
       "      <td>15.335938</td>\n",
       "      <td>26.5625</td>\n",
       "      <td>0</td>\n",
       "      <td>...</td>\n",
       "      <td>1</td>\n",
       "      <td>20</td>\n",
       "      <td>0.0</td>\n",
       "      <td>0.000000</td>\n",
       "      <td>0</td>\n",
       "      <td>0</td>\n",
       "      <td>0.0</td>\n",
       "      <td>0.0000</td>\n",
       "      <td>0</td>\n",
       "      <td>0</td>\n",
       "    </tr>\n",
       "    <tr>\n",
       "      <th>3</th>\n",
       "      <td>99999555</td>\n",
       "      <td>2</td>\n",
       "      <td>2</td>\n",
       "      <td>16</td>\n",
       "      <td>0</td>\n",
       "      <td>8</td>\n",
       "      <td>8</td>\n",
       "      <td>8.000000</td>\n",
       "      <td>0.0000</td>\n",
       "      <td>0</td>\n",
       "      <td>...</td>\n",
       "      <td>1</td>\n",
       "      <td>32</td>\n",
       "      <td>1.0</td>\n",
       "      <td>0.000000</td>\n",
       "      <td>1</td>\n",
       "      <td>1</td>\n",
       "      <td>99999552.0</td>\n",
       "      <td>0.0000</td>\n",
       "      <td>99999553</td>\n",
       "      <td>99999553</td>\n",
       "    </tr>\n",
       "    <tr>\n",
       "      <th>4</th>\n",
       "      <td>10070086</td>\n",
       "      <td>4</td>\n",
       "      <td>4</td>\n",
       "      <td>379</td>\n",
       "      <td>408</td>\n",
       "      <td>379</td>\n",
       "      <td>0</td>\n",
       "      <td>94.750000</td>\n",
       "      <td>189.5000</td>\n",
       "      <td>408</td>\n",
       "      <td>...</td>\n",
       "      <td>1</td>\n",
       "      <td>20</td>\n",
       "      <td>0.0</td>\n",
       "      <td>0.000000</td>\n",
       "      <td>0</td>\n",
       "      <td>0</td>\n",
       "      <td>0.0</td>\n",
       "      <td>0.0000</td>\n",
       "      <td>0</td>\n",
       "      <td>0</td>\n",
       "    </tr>\n",
       "    <tr>\n",
       "      <th>...</th>\n",
       "      <td>...</td>\n",
       "      <td>...</td>\n",
       "      <td>...</td>\n",
       "      <td>...</td>\n",
       "      <td>...</td>\n",
       "      <td>...</td>\n",
       "      <td>...</td>\n",
       "      <td>...</td>\n",
       "      <td>...</td>\n",
       "      <td>...</td>\n",
       "      <td>...</td>\n",
       "      <td>...</td>\n",
       "      <td>...</td>\n",
       "      <td>...</td>\n",
       "      <td>...</td>\n",
       "      <td>...</td>\n",
       "      <td>...</td>\n",
       "      <td>...</td>\n",
       "      <td>...</td>\n",
       "      <td>...</td>\n",
       "      <td>...</td>\n",
       "    </tr>\n",
       "    <tr>\n",
       "      <th>1033926</th>\n",
       "      <td>1569097</td>\n",
       "      <td>8</td>\n",
       "      <td>7</td>\n",
       "      <td>1148</td>\n",
       "      <td>1581</td>\n",
       "      <td>677</td>\n",
       "      <td>0</td>\n",
       "      <td>143.500000</td>\n",
       "      <td>228.1250</td>\n",
       "      <td>1173</td>\n",
       "      <td>...</td>\n",
       "      <td>5</td>\n",
       "      <td>20</td>\n",
       "      <td>0.0</td>\n",
       "      <td>0.000000</td>\n",
       "      <td>0</td>\n",
       "      <td>0</td>\n",
       "      <td>0.0</td>\n",
       "      <td>0.0000</td>\n",
       "      <td>0</td>\n",
       "      <td>0</td>\n",
       "    </tr>\n",
       "    <tr>\n",
       "      <th>1033927</th>\n",
       "      <td>1731968</td>\n",
       "      <td>8</td>\n",
       "      <td>7</td>\n",
       "      <td>1144</td>\n",
       "      <td>1581</td>\n",
       "      <td>677</td>\n",
       "      <td>0</td>\n",
       "      <td>143.000000</td>\n",
       "      <td>228.0000</td>\n",
       "      <td>1173</td>\n",
       "      <td>...</td>\n",
       "      <td>5</td>\n",
       "      <td>20</td>\n",
       "      <td>0.0</td>\n",
       "      <td>0.000000</td>\n",
       "      <td>0</td>\n",
       "      <td>0</td>\n",
       "      <td>0.0</td>\n",
       "      <td>0.0000</td>\n",
       "      <td>0</td>\n",
       "      <td>0</td>\n",
       "    </tr>\n",
       "    <tr>\n",
       "      <th>1033928</th>\n",
       "      <td>31979</td>\n",
       "      <td>2</td>\n",
       "      <td>2</td>\n",
       "      <td>62</td>\n",
       "      <td>304</td>\n",
       "      <td>31</td>\n",
       "      <td>31</td>\n",
       "      <td>31.000000</td>\n",
       "      <td>0.0000</td>\n",
       "      <td>152</td>\n",
       "      <td>...</td>\n",
       "      <td>1</td>\n",
       "      <td>8</td>\n",
       "      <td>0.0</td>\n",
       "      <td>0.000000</td>\n",
       "      <td>0</td>\n",
       "      <td>0</td>\n",
       "      <td>0.0</td>\n",
       "      <td>0.0000</td>\n",
       "      <td>0</td>\n",
       "      <td>0</td>\n",
       "    </tr>\n",
       "    <tr>\n",
       "      <th>1033929</th>\n",
       "      <td>14218439</td>\n",
       "      <td>11</td>\n",
       "      <td>8</td>\n",
       "      <td>1148</td>\n",
       "      <td>1581</td>\n",
       "      <td>677</td>\n",
       "      <td>0</td>\n",
       "      <td>104.375000</td>\n",
       "      <td>202.2500</td>\n",
       "      <td>1173</td>\n",
       "      <td>...</td>\n",
       "      <td>5</td>\n",
       "      <td>20</td>\n",
       "      <td>162341.0</td>\n",
       "      <td>0.000000</td>\n",
       "      <td>162341</td>\n",
       "      <td>162341</td>\n",
       "      <td>12128890.0</td>\n",
       "      <td>0.0000</td>\n",
       "      <td>12128890</td>\n",
       "      <td>12128890</td>\n",
       "    </tr>\n",
       "    <tr>\n",
       "      <th>1033930</th>\n",
       "      <td>1044</td>\n",
       "      <td>5</td>\n",
       "      <td>2</td>\n",
       "      <td>935</td>\n",
       "      <td>316</td>\n",
       "      <td>935</td>\n",
       "      <td>0</td>\n",
       "      <td>187.000000</td>\n",
       "      <td>418.2500</td>\n",
       "      <td>316</td>\n",
       "      <td>...</td>\n",
       "      <td>1</td>\n",
       "      <td>20</td>\n",
       "      <td>0.0</td>\n",
       "      <td>0.000000</td>\n",
       "      <td>0</td>\n",
       "      <td>0</td>\n",
       "      <td>0.0</td>\n",
       "      <td>0.0000</td>\n",
       "      <td>0</td>\n",
       "      <td>0</td>\n",
       "    </tr>\n",
       "  </tbody>\n",
       "</table>\n",
       "<p>1033931 rows × 68 columns</p>\n",
       "</div>"
      ],
      "text/plain": [
       "         Flow Duration  Tot Fwd Pkts  Tot Bwd Pkts  TotLen Fwd Pkts  \\\n",
       "0            119646801            17            16              597   \n",
       "1                  375             2             1               38   \n",
       "2                  281             3             0               46   \n",
       "3             99999555             2             2               16   \n",
       "4             10070086             4             4              379   \n",
       "...                ...           ...           ...              ...   \n",
       "1033926        1569097             8             7             1148   \n",
       "1033927        1731968             8             7             1144   \n",
       "1033928          31979             2             2               62   \n",
       "1033929       14218439            11             8             1148   \n",
       "1033930           1044             5             2              935   \n",
       "\n",
       "         TotLen Bwd Pkts  Fwd Pkt Len Max  Fwd Pkt Len Min  Fwd Pkt Len Mean  \\\n",
       "0                    768              293                0         35.125000   \n",
       "1                      0               38                0         19.000000   \n",
       "2                      0               46                0         15.335938   \n",
       "3                      0                8                8          8.000000   \n",
       "4                    408              379                0         94.750000   \n",
       "...                  ...              ...              ...               ...   \n",
       "1033926             1581              677                0        143.500000   \n",
       "1033927             1581              677                0        143.000000   \n",
       "1033928              304               31               31         31.000000   \n",
       "1033929             1581              677                0        104.375000   \n",
       "1033930              316              935                0        187.000000   \n",
       "\n",
       "         Fwd Pkt Len Std  Bwd Pkt Len Max  ...  Fwd Act Data Pkts  \\\n",
       "0                97.0625              384  ...                 13   \n",
       "1                26.8750                0  ...                  0   \n",
       "2                26.5625                0  ...                  1   \n",
       "3                 0.0000                0  ...                  1   \n",
       "4               189.5000              408  ...                  1   \n",
       "...                  ...              ...  ...                ...   \n",
       "1033926         228.1250             1173  ...                  5   \n",
       "1033927         228.0000             1173  ...                  5   \n",
       "1033928           0.0000              152  ...                  1   \n",
       "1033929         202.2500             1173  ...                  5   \n",
       "1033930         418.2500              316  ...                  1   \n",
       "\n",
       "         Fwd Seg Size Min  Active Mean    Active Std  Active Max  Active Min  \\\n",
       "0                      20      45580.5  32287.847656      131880       32165   \n",
       "1                      20          0.0      0.000000           0           0   \n",
       "2                      20          0.0      0.000000           0           0   \n",
       "3                      32          1.0      0.000000           1           1   \n",
       "4                      20          0.0      0.000000           0           0   \n",
       "...                   ...          ...           ...         ...         ...   \n",
       "1033926                20          0.0      0.000000           0           0   \n",
       "1033927                20          0.0      0.000000           0           0   \n",
       "1033928                 8          0.0      0.000000           0           0   \n",
       "1033929                20     162341.0      0.000000      162341      162341   \n",
       "1033930                20          0.0      0.000000           0           0   \n",
       "\n",
       "          Idle Mean     Idle Std  Idle Max  Idle Min  \n",
       "0         9922286.0  281712.5625  10014561   9030908  \n",
       "1               0.0       0.0000         0         0  \n",
       "2               0.0       0.0000         0         0  \n",
       "3        99999552.0       0.0000  99999553  99999553  \n",
       "4               0.0       0.0000         0         0  \n",
       "...             ...          ...       ...       ...  \n",
       "1033926         0.0       0.0000         0         0  \n",
       "1033927         0.0       0.0000         0         0  \n",
       "1033928         0.0       0.0000         0         0  \n",
       "1033929  12128890.0       0.0000  12128890  12128890  \n",
       "1033930         0.0       0.0000         0         0  \n",
       "\n",
       "[1033931 rows x 68 columns]"
      ]
     },
     "metadata": {},
     "output_type": "display_data"
    }
   ],
   "source": [
    "#Separating features and target\n",
    "x=df.drop(columns=['category'])\n",
    "y=df['category']\n",
    "display(x)"
   ]
  },
  {
   "cell_type": "code",
   "execution_count": 4,
   "id": "e3070392",
   "metadata": {},
   "outputs": [
    {
     "data": {
      "text/plain": [
       "0          0\n",
       "1          0\n",
       "2          0\n",
       "3          4\n",
       "4          0\n",
       "          ..\n",
       "1033926    0\n",
       "1033927    0\n",
       "1033928    0\n",
       "1033929    0\n",
       "1033930    0\n",
       "Name: category, Length: 1033931, dtype: object"
      ]
     },
     "metadata": {},
     "output_type": "display_data"
    }
   ],
   "source": [
    "display(y)"
   ]
  },
  {
   "cell_type": "code",
   "execution_count": 5,
   "id": "ae641b3b",
   "metadata": {},
   "outputs": [
    {
     "data": {
      "text/plain": [
       "array(['0', '4', '3', '1', '5', '2', '6'], dtype=object)"
      ]
     },
     "execution_count": 5,
     "metadata": {},
     "output_type": "execute_result"
    }
   ],
   "source": [
    "y.unique()"
   ]
  },
  {
   "cell_type": "markdown",
   "id": "8fda1dd6",
   "metadata": {},
   "source": [
    "### Case1 (Keeping Proportion Same)"
   ]
  },
  {
   "cell_type": "code",
   "execution_count": null,
   "id": "fc7a90d2",
   "metadata": {},
   "outputs": [],
   "source": [
    "\"\"\"To achieve Case 1,we can use SMOTE(Synthetic Minority Over-sampling Technique)provided by the imbalanced-learn Python \n",
    "library 1.SMOTE generates synthetic samples for the minority class based on its k-nearest neighbors.The proportion of \n",
    "different attack class records will remain the same as in the original dataset.\"\"\""
   ]
  },
  {
   "cell_type": "code",
   "execution_count": null,
   "id": "bfbd7f9e",
   "metadata": {},
   "outputs": [],
   "source": [
    "\"\"\"RandomOverSampler sampling_strategy='minority' oversamples the minority class(attack records) to match the number of \n",
    "majority class (benign records).But whether the proportion of different attack class records will remain the same as in the \n",
    "original dataset is not guaranteed as we see in printing y1.value_counts(normalize=True)\"\"\""
   ]
  },
  {
   "cell_type": "code",
   "execution_count": 46,
   "id": "e14f5866",
   "metadata": {},
   "outputs": [],
   "source": [
    "# #Creating RandomOverSampler object\n",
    "# ros1=RandomOverSampler(sampling_strategy='minority')"
   ]
  },
  {
   "cell_type": "code",
   "execution_count": 45,
   "id": "00eedcb0",
   "metadata": {},
   "outputs": [],
   "source": [
    "# x1,y1=ros1.fit_resample(x,y)\n",
    "# print(y.value_counts())\n",
    "# print(y1.value_counts())"
   ]
  },
  {
   "cell_type": "code",
   "execution_count": 44,
   "id": "579f67d6",
   "metadata": {},
   "outputs": [],
   "source": [
    "# print(y.value_counts(normalize=True))\n",
    "# print(y1.value_counts(normalize=True))"
   ]
  },
  {
   "cell_type": "code",
   "execution_count": 43,
   "id": "8c24ff06",
   "metadata": {},
   "outputs": [],
   "source": [
    "# from imblearn.over_sampling import SMOTE"
   ]
  },
  {
   "cell_type": "code",
   "execution_count": 41,
   "id": "70cb1a29",
   "metadata": {},
   "outputs": [],
   "source": [
    "# smote=SMOTE()\n",
    "# x3,y3=smote.fit_resample(x,y)\n",
    "# print(y.value_counts(normalize=True))\n",
    "# print(y1.value_counts(normalize=True))"
   ]
  },
  {
   "cell_type": "code",
   "execution_count": 40,
   "id": "f2fd68e9",
   "metadata": {},
   "outputs": [],
   "source": [
    "# print(y.value_counts())\n",
    "# print(y3.value_counts())"
   ]
  },
  {
   "cell_type": "code",
   "execution_count": 6,
   "id": "5ad65b3e",
   "metadata": {},
   "outputs": [
    {
     "name": "stdout",
     "output_type": "stream",
     "text": [
      "0    901347\n",
      "3     77595\n",
      "4     19657\n",
      "1     14453\n",
      "5     11382\n",
      "2      9410\n",
      "6        87\n",
      "Name: category, dtype: int64\n",
      "1033931\n"
     ]
    }
   ],
   "source": [
    "print(y.value_counts())\n",
    "totalrecords=y.value_counts().sum()\n",
    "print(totalrecords)"
   ]
  },
  {
   "cell_type": "code",
   "execution_count": 7,
   "id": "877f5fb8",
   "metadata": {},
   "outputs": [],
   "source": [
    "# dict2={}\n",
    "# df10=(y.value_counts())\n",
    "# display(df10)\n",
    "# for i in range(6):\n",
    "#     dict2[df10.iloc[i][0]]=df10.iloc[i][1]\n",
    "# print(dict2)"
   ]
  },
  {
   "cell_type": "code",
   "execution_count": 7,
   "id": "92533def",
   "metadata": {},
   "outputs": [
    {
     "name": "stdout",
     "output_type": "stream",
     "text": [
      "{'0': 901347, '3': 77595, '4': 19657, '1': 14453, '5': 11382, '2': 9410, '6': 87}\n",
      "{'0': 0.8717670714970341, '3': 0.0750485283834221, '4': 0.019011906984121765, '1': 0.013978689100143046, '5': 0.011008471551776667, '2': 0.009101187603428082, '6': 8.414488007420225e-05}\n"
     ]
    }
   ],
   "source": [
    "dict2=y.value_counts().to_dict()\n",
    "print(dict2)\n",
    "dict3={}\n",
    "for i in dict2.keys():\n",
    "    dict3[i]=(dict2[i]/totalrecords)\n",
    "print(dict3)"
   ]
  },
  {
   "cell_type": "code",
   "execution_count": 8,
   "id": "2eb11c1f",
   "metadata": {},
   "outputs": [
    {
     "name": "stdout",
     "output_type": "stream",
     "text": [
      "132584\n"
     ]
    }
   ],
   "source": [
    "attackrecords=totalrecords-901347\n",
    "print(attackrecords)"
   ]
  },
  {
   "cell_type": "code",
   "execution_count": 9,
   "id": "caf7ca17",
   "metadata": {},
   "outputs": [
    {
     "name": "stdout",
     "output_type": "stream",
     "text": [
      "{'0': 7028982, '3': 605109, '4': 153291, '1': 112708, '5': 88760, '2': 73382, '6': 678}\n"
     ]
    }
   ],
   "source": [
    "dict4={}\n",
    "for i in dict2.keys():\n",
    "    if(i==0):\n",
    "        dict4[i]=dict2[i]\n",
    "    else:\n",
    "        dict4[i]=int((dict2[i]/attackrecords)*totalrecords)\n",
    "print(dict4)"
   ]
  },
  {
   "cell_type": "code",
   "execution_count": 10,
   "id": "f4aedc8f",
   "metadata": {},
   "outputs": [
    {
     "name": "stdout",
     "output_type": "stream",
     "text": [
      "{'0': 7028982, '3': 605109, '4': 153291, '1': 112708, '5': 88760, '2': 73382, '6': 678}\n"
     ]
    }
   ],
   "source": [
    "class_counts=y.value_counts().to_dict()\n",
    "total_records=len(y)\n",
    "# n_benign=class_counts[0]\n",
    "n_benign=901347\n",
    "n_attack=total_records-n_benign\n",
    "desired_counts={}\n",
    "for class_label,count in class_counts.items():\n",
    "    if(class_label==0):\n",
    "        desired_counts[class_label]=count\n",
    "    else:\n",
    "        desired_counts[class_label]=int((count/n_attack)*total_records)\n",
    "print(desired_counts)"
   ]
  },
  {
   "cell_type": "code",
   "execution_count": 11,
   "id": "e321d2c5",
   "metadata": {},
   "outputs": [
    {
     "name": "stdout",
     "output_type": "stream",
     "text": [
      "{'0': 901347, '3': 77595, '4': 19657, '1': 14453, '5': 11382, '2': 9410, '6': 87}\n",
      "0    0.871767\n",
      "3    0.075048\n",
      "4    0.019012\n",
      "1    0.013979\n",
      "5    0.011008\n",
      "2    0.009101\n",
      "6    0.000084\n",
      "Name: category, dtype: float64\n"
     ]
    }
   ],
   "source": [
    "from imblearn.over_sampling import RandomOverSampler\n",
    "sampling_strategy1=desired_counts\n",
    "oversampler=RandomOverSampler(sampling_strategy=sampling_strategy1)\n",
    "x1,y1=oversampler.fit_resample(x,y)\n",
    "print(dict2)\n",
    "print(y1.value_counts(normalize=True))"
   ]
  },
  {
   "cell_type": "code",
   "execution_count": null,
   "id": "2b718241",
   "metadata": {},
   "outputs": [],
   "source": [
    "\"\"\"We can see that the proportion is maintained in between the attack classes\"\"\""
   ]
  },
  {
   "cell_type": "markdown",
   "id": "0995a282",
   "metadata": {},
   "source": [
    "### Case2 (Equal Records)"
   ]
  },
  {
   "cell_type": "code",
   "execution_count": null,
   "id": "eef1ee14",
   "metadata": {},
   "outputs": [],
   "source": [
    "\"\"\"By sampling_strategy='all',we oversample all our records to one equal amount.\"\"\""
   ]
  },
  {
   "cell_type": "code",
   "execution_count": 12,
   "id": "5c6fd651",
   "metadata": {},
   "outputs": [],
   "source": [
    "from imblearn.over_sampling import RandomOverSampler"
   ]
  },
  {
   "cell_type": "code",
   "execution_count": 13,
   "id": "251f28c4",
   "metadata": {},
   "outputs": [],
   "source": [
    "#Creating RandomOverSampler object\n",
    "ros2=RandomOverSampler(sampling_strategy='all')"
   ]
  },
  {
   "cell_type": "code",
   "execution_count": 14,
   "id": "f87de042",
   "metadata": {},
   "outputs": [
    {
     "name": "stdout",
     "output_type": "stream",
     "text": [
      "0    901347\n",
      "3     77595\n",
      "4     19657\n",
      "1     14453\n",
      "5     11382\n",
      "2      9410\n",
      "6        87\n",
      "Name: category, dtype: int64\n",
      "0    901347\n",
      "4    901347\n",
      "3    901347\n",
      "1    901347\n",
      "5    901347\n",
      "2    901347\n",
      "6    901347\n",
      "Name: category, dtype: int64\n"
     ]
    }
   ],
   "source": [
    "x2,y2=ros2.fit_resample(x,y)\n",
    "print(y.value_counts())\n",
    "print(y2.value_counts())"
   ]
  },
  {
   "cell_type": "markdown",
   "id": "6c43f677",
   "metadata": {},
   "source": [
    "### PreProcessing "
   ]
  },
  {
   "cell_type": "code",
   "execution_count": 15,
   "id": "d05b58a4",
   "metadata": {},
   "outputs": [],
   "source": [
    "from sklearn.model_selection import train_test_split\n",
    "from sklearn.preprocessing import MinMaxScaler\n",
    "from sklearn.decomposition import PCA"
   ]
  },
  {
   "cell_type": "code",
   "execution_count": 16,
   "id": "4b9640c0",
   "metadata": {},
   "outputs": [],
   "source": [
    "def PreprocessingXY(x,y):\n",
    "    X_train,X_test,y_train,y_test=train_test_split(x,y,test_size=0.3,stratify=y,random_state=42)\n",
    "    scaler=MinMaxScaler()\n",
    "    X_train_scaled=scaler.fit_transform(X_train)\n",
    "    X_test_scaled=scaler.transform(X_test)\n",
    "    pca=PCA(n_components=0.95,random_state=42)\n",
    "    X_train_pca=pca.fit_transform(X_train_scaled)\n",
    "    X_test_pca=pca.transform(X_test_scaled)\n",
    "    return (X_train_pca,X_test_pca,y_train,y_test)"
   ]
  },
  {
   "cell_type": "code",
   "execution_count": 17,
   "id": "52c2a825",
   "metadata": {},
   "outputs": [],
   "source": [
    "X1_train,X1_test,y1_train,y1_test=PreprocessingXY(x1,y1)"
   ]
  },
  {
   "cell_type": "code",
   "execution_count": 18,
   "id": "b2db2a28",
   "metadata": {},
   "outputs": [],
   "source": [
    "X2_train,X2_test,y2_train,y2_test=PreprocessingXY(x2,y2)"
   ]
  },
  {
   "cell_type": "code",
   "execution_count": 20,
   "id": "2c692a8d",
   "metadata": {},
   "outputs": [],
   "source": [
    "# X3_train,X3_test,y3_train,y3_test=PreprocessingXY(x3,y3)"
   ]
  },
  {
   "cell_type": "markdown",
   "id": "0314ef88",
   "metadata": {},
   "source": [
    "### Random Forest Classifier"
   ]
  },
  {
   "cell_type": "code",
   "execution_count": 19,
   "id": "a8349cc5",
   "metadata": {},
   "outputs": [],
   "source": [
    "from sklearn.ensemble import RandomForestClassifier"
   ]
  },
  {
   "cell_type": "code",
   "execution_count": 21,
   "id": "25665844",
   "metadata": {},
   "outputs": [],
   "source": [
    "def RFCClassifier(x_train,y_train):\n",
    "    rfc=RandomForestClassifier(n_estimators=10,max_depth=3)\n",
    "    rfc.fit(x_train, y_train)\n",
    "    return rfc\n",
    "\n",
    "def Testing(rfc,x_test,y_test):\n",
    "    rfc_predict=rfc.predict(x_test)\n",
    "    print('ROCAUC score=',roc_auc_score(y_test,rfc_predict))\n",
    "    print('Accuracy score=',accuracy_score(y_test,rfc_predict))\n",
    "    print('F1 score=',f1_score(y_test,rfc_predict))"
   ]
  },
  {
   "cell_type": "code",
   "execution_count": 23,
   "id": "e55265b1",
   "metadata": {},
   "outputs": [],
   "source": [
    "from sklearn.metrics import roc_auc_score,accuracy_score,f1_score"
   ]
  },
  {
   "cell_type": "code",
   "execution_count": 27,
   "id": "d6e1bfbc",
   "metadata": {},
   "outputs": [],
   "source": [
    "# rfc1=RFCClassifier(X1_train,y1_train)\n",
    "# Testing(rfc1,X1_test,y1_test)"
   ]
  },
  {
   "cell_type": "code",
   "execution_count": 28,
   "id": "e50ed2bc",
   "metadata": {},
   "outputs": [],
   "source": [
    "# rfc2=RFCClassifier(X2_train,y2_train)\n",
    "# Testing(rfc2,X2_test,y2_test)"
   ]
  },
  {
   "cell_type": "code",
   "execution_count": 20,
   "id": "9c45f7ec",
   "metadata": {},
   "outputs": [
    {
     "data": {
      "text/html": [
       "<style>#sk-container-id-1 {color: black;background-color: white;}#sk-container-id-1 pre{padding: 0;}#sk-container-id-1 div.sk-toggleable {background-color: white;}#sk-container-id-1 label.sk-toggleable__label {cursor: pointer;display: block;width: 100%;margin-bottom: 0;padding: 0.3em;box-sizing: border-box;text-align: center;}#sk-container-id-1 label.sk-toggleable__label-arrow:before {content: \"▸\";float: left;margin-right: 0.25em;color: #696969;}#sk-container-id-1 label.sk-toggleable__label-arrow:hover:before {color: black;}#sk-container-id-1 div.sk-estimator:hover label.sk-toggleable__label-arrow:before {color: black;}#sk-container-id-1 div.sk-toggleable__content {max-height: 0;max-width: 0;overflow: hidden;text-align: left;background-color: #f0f8ff;}#sk-container-id-1 div.sk-toggleable__content pre {margin: 0.2em;color: black;border-radius: 0.25em;background-color: #f0f8ff;}#sk-container-id-1 input.sk-toggleable__control:checked~div.sk-toggleable__content {max-height: 200px;max-width: 100%;overflow: auto;}#sk-container-id-1 input.sk-toggleable__control:checked~label.sk-toggleable__label-arrow:before {content: \"▾\";}#sk-container-id-1 div.sk-estimator input.sk-toggleable__control:checked~label.sk-toggleable__label {background-color: #d4ebff;}#sk-container-id-1 div.sk-label input.sk-toggleable__control:checked~label.sk-toggleable__label {background-color: #d4ebff;}#sk-container-id-1 input.sk-hidden--visually {border: 0;clip: rect(1px 1px 1px 1px);clip: rect(1px, 1px, 1px, 1px);height: 1px;margin: -1px;overflow: hidden;padding: 0;position: absolute;width: 1px;}#sk-container-id-1 div.sk-estimator {font-family: monospace;background-color: #f0f8ff;border: 1px dotted black;border-radius: 0.25em;box-sizing: border-box;margin-bottom: 0.5em;}#sk-container-id-1 div.sk-estimator:hover {background-color: #d4ebff;}#sk-container-id-1 div.sk-parallel-item::after {content: \"\";width: 100%;border-bottom: 1px solid gray;flex-grow: 1;}#sk-container-id-1 div.sk-label:hover label.sk-toggleable__label {background-color: #d4ebff;}#sk-container-id-1 div.sk-serial::before {content: \"\";position: absolute;border-left: 1px solid gray;box-sizing: border-box;top: 0;bottom: 0;left: 50%;z-index: 0;}#sk-container-id-1 div.sk-serial {display: flex;flex-direction: column;align-items: center;background-color: white;padding-right: 0.2em;padding-left: 0.2em;position: relative;}#sk-container-id-1 div.sk-item {position: relative;z-index: 1;}#sk-container-id-1 div.sk-parallel {display: flex;align-items: stretch;justify-content: center;background-color: white;position: relative;}#sk-container-id-1 div.sk-item::before, #sk-container-id-1 div.sk-parallel-item::before {content: \"\";position: absolute;border-left: 1px solid gray;box-sizing: border-box;top: 0;bottom: 0;left: 50%;z-index: -1;}#sk-container-id-1 div.sk-parallel-item {display: flex;flex-direction: column;z-index: 1;position: relative;background-color: white;}#sk-container-id-1 div.sk-parallel-item:first-child::after {align-self: flex-end;width: 50%;}#sk-container-id-1 div.sk-parallel-item:last-child::after {align-self: flex-start;width: 50%;}#sk-container-id-1 div.sk-parallel-item:only-child::after {width: 0;}#sk-container-id-1 div.sk-dashed-wrapped {border: 1px dashed gray;margin: 0 0.4em 0.5em 0.4em;box-sizing: border-box;padding-bottom: 0.4em;background-color: white;}#sk-container-id-1 div.sk-label label {font-family: monospace;font-weight: bold;display: inline-block;line-height: 1.2em;}#sk-container-id-1 div.sk-label-container {text-align: center;}#sk-container-id-1 div.sk-container {/* jupyter's `normalize.less` sets `[hidden] { display: none; }` but bootstrap.min.css set `[hidden] { display: none !important; }` so we also need the `!important` here to be able to override the default hidden behavior on the sphinx rendered scikit-learn.org. See: https://github.com/scikit-learn/scikit-learn/issues/21755 */display: inline-block !important;position: relative;}#sk-container-id-1 div.sk-text-repr-fallback {display: none;}</style><div id=\"sk-container-id-1\" class=\"sk-top-container\"><div class=\"sk-text-repr-fallback\"><pre>RandomForestClassifier(max_depth=3, n_estimators=10)</pre><b>In a Jupyter environment, please rerun this cell to show the HTML representation or trust the notebook. <br />On GitHub, the HTML representation is unable to render, please try loading this page with nbviewer.org.</b></div><div class=\"sk-container\" hidden><div class=\"sk-item\"><div class=\"sk-estimator sk-toggleable\"><input class=\"sk-toggleable__control sk-hidden--visually\" id=\"sk-estimator-id-1\" type=\"checkbox\" checked><label for=\"sk-estimator-id-1\" class=\"sk-toggleable__label sk-toggleable__label-arrow\">RandomForestClassifier</label><div class=\"sk-toggleable__content\"><pre>RandomForestClassifier(max_depth=3, n_estimators=10)</pre></div></div></div></div></div>"
      ],
      "text/plain": [
       "RandomForestClassifier(max_depth=3, n_estimators=10)"
      ]
     },
     "execution_count": 20,
     "metadata": {},
     "output_type": "execute_result"
    }
   ],
   "source": [
    "rfc1=RandomForestClassifier(n_estimators=10,max_depth=3)\n",
    "rfc1.fit(X1_train,y1_train)"
   ]
  },
  {
   "cell_type": "code",
   "execution_count": 26,
   "id": "6d868ec5",
   "metadata": {},
   "outputs": [
    {
     "name": "stdout",
     "output_type": "stream",
     "text": [
      "['0']\n"
     ]
    }
   ],
   "source": [
    "print(rfc1.predict([X1_test[0]]))"
   ]
  },
  {
   "cell_type": "code",
   "execution_count": 29,
   "id": "b24688a2",
   "metadata": {},
   "outputs": [
    {
     "data": {
      "text/html": [
       "<style>#sk-container-id-2 {color: black;background-color: white;}#sk-container-id-2 pre{padding: 0;}#sk-container-id-2 div.sk-toggleable {background-color: white;}#sk-container-id-2 label.sk-toggleable__label {cursor: pointer;display: block;width: 100%;margin-bottom: 0;padding: 0.3em;box-sizing: border-box;text-align: center;}#sk-container-id-2 label.sk-toggleable__label-arrow:before {content: \"▸\";float: left;margin-right: 0.25em;color: #696969;}#sk-container-id-2 label.sk-toggleable__label-arrow:hover:before {color: black;}#sk-container-id-2 div.sk-estimator:hover label.sk-toggleable__label-arrow:before {color: black;}#sk-container-id-2 div.sk-toggleable__content {max-height: 0;max-width: 0;overflow: hidden;text-align: left;background-color: #f0f8ff;}#sk-container-id-2 div.sk-toggleable__content pre {margin: 0.2em;color: black;border-radius: 0.25em;background-color: #f0f8ff;}#sk-container-id-2 input.sk-toggleable__control:checked~div.sk-toggleable__content {max-height: 200px;max-width: 100%;overflow: auto;}#sk-container-id-2 input.sk-toggleable__control:checked~label.sk-toggleable__label-arrow:before {content: \"▾\";}#sk-container-id-2 div.sk-estimator input.sk-toggleable__control:checked~label.sk-toggleable__label {background-color: #d4ebff;}#sk-container-id-2 div.sk-label input.sk-toggleable__control:checked~label.sk-toggleable__label {background-color: #d4ebff;}#sk-container-id-2 input.sk-hidden--visually {border: 0;clip: rect(1px 1px 1px 1px);clip: rect(1px, 1px, 1px, 1px);height: 1px;margin: -1px;overflow: hidden;padding: 0;position: absolute;width: 1px;}#sk-container-id-2 div.sk-estimator {font-family: monospace;background-color: #f0f8ff;border: 1px dotted black;border-radius: 0.25em;box-sizing: border-box;margin-bottom: 0.5em;}#sk-container-id-2 div.sk-estimator:hover {background-color: #d4ebff;}#sk-container-id-2 div.sk-parallel-item::after {content: \"\";width: 100%;border-bottom: 1px solid gray;flex-grow: 1;}#sk-container-id-2 div.sk-label:hover label.sk-toggleable__label {background-color: #d4ebff;}#sk-container-id-2 div.sk-serial::before {content: \"\";position: absolute;border-left: 1px solid gray;box-sizing: border-box;top: 0;bottom: 0;left: 50%;z-index: 0;}#sk-container-id-2 div.sk-serial {display: flex;flex-direction: column;align-items: center;background-color: white;padding-right: 0.2em;padding-left: 0.2em;position: relative;}#sk-container-id-2 div.sk-item {position: relative;z-index: 1;}#sk-container-id-2 div.sk-parallel {display: flex;align-items: stretch;justify-content: center;background-color: white;position: relative;}#sk-container-id-2 div.sk-item::before, #sk-container-id-2 div.sk-parallel-item::before {content: \"\";position: absolute;border-left: 1px solid gray;box-sizing: border-box;top: 0;bottom: 0;left: 50%;z-index: -1;}#sk-container-id-2 div.sk-parallel-item {display: flex;flex-direction: column;z-index: 1;position: relative;background-color: white;}#sk-container-id-2 div.sk-parallel-item:first-child::after {align-self: flex-end;width: 50%;}#sk-container-id-2 div.sk-parallel-item:last-child::after {align-self: flex-start;width: 50%;}#sk-container-id-2 div.sk-parallel-item:only-child::after {width: 0;}#sk-container-id-2 div.sk-dashed-wrapped {border: 1px dashed gray;margin: 0 0.4em 0.5em 0.4em;box-sizing: border-box;padding-bottom: 0.4em;background-color: white;}#sk-container-id-2 div.sk-label label {font-family: monospace;font-weight: bold;display: inline-block;line-height: 1.2em;}#sk-container-id-2 div.sk-label-container {text-align: center;}#sk-container-id-2 div.sk-container {/* jupyter's `normalize.less` sets `[hidden] { display: none; }` but bootstrap.min.css set `[hidden] { display: none !important; }` so we also need the `!important` here to be able to override the default hidden behavior on the sphinx rendered scikit-learn.org. See: https://github.com/scikit-learn/scikit-learn/issues/21755 */display: inline-block !important;position: relative;}#sk-container-id-2 div.sk-text-repr-fallback {display: none;}</style><div id=\"sk-container-id-2\" class=\"sk-top-container\"><div class=\"sk-text-repr-fallback\"><pre>RandomForestClassifier(max_depth=3, n_estimators=10)</pre><b>In a Jupyter environment, please rerun this cell to show the HTML representation or trust the notebook. <br />On GitHub, the HTML representation is unable to render, please try loading this page with nbviewer.org.</b></div><div class=\"sk-container\" hidden><div class=\"sk-item\"><div class=\"sk-estimator sk-toggleable\"><input class=\"sk-toggleable__control sk-hidden--visually\" id=\"sk-estimator-id-2\" type=\"checkbox\" checked><label for=\"sk-estimator-id-2\" class=\"sk-toggleable__label sk-toggleable__label-arrow\">RandomForestClassifier</label><div class=\"sk-toggleable__content\"><pre>RandomForestClassifier(max_depth=3, n_estimators=10)</pre></div></div></div></div></div>"
      ],
      "text/plain": [
       "RandomForestClassifier(max_depth=3, n_estimators=10)"
      ]
     },
     "execution_count": 29,
     "metadata": {},
     "output_type": "execute_result"
    }
   ],
   "source": [
    "rfc2=RandomForestClassifier(n_estimators=10,max_depth=3)\n",
    "rfc2.fit(X2_train,y2_train)"
   ]
  },
  {
   "cell_type": "code",
   "execution_count": 30,
   "id": "16eb6c4d",
   "metadata": {},
   "outputs": [
    {
     "name": "stdout",
     "output_type": "stream",
     "text": [
      "['1']\n"
     ]
    }
   ],
   "source": [
    "print(rfc2.predict([X2_test[0]]))"
   ]
  },
  {
   "cell_type": "code",
   "execution_count": 32,
   "id": "262e0e7a",
   "metadata": {},
   "outputs": [
    {
     "name": "stdout",
     "output_type": "stream",
     "text": [
      "0\n"
     ]
    }
   ],
   "source": [
    "print(y1_test.iloc[0])"
   ]
  },
  {
   "cell_type": "code",
   "execution_count": 33,
   "id": "f280ab7c",
   "metadata": {},
   "outputs": [
    {
     "name": "stdout",
     "output_type": "stream",
     "text": [
      "1\n"
     ]
    }
   ],
   "source": [
    "print(y2_test.iloc[0])"
   ]
  },
  {
   "cell_type": "code",
   "execution_count": null,
   "id": "146a0c07",
   "metadata": {},
   "outputs": [],
   "source": []
  }
 ],
 "metadata": {
  "kernelspec": {
   "display_name": "Python 3 (ipykernel)",
   "language": "python",
   "name": "python3"
  },
  "language_info": {
   "codemirror_mode": {
    "name": "ipython",
    "version": 3
   },
   "file_extension": ".py",
   "mimetype": "text/x-python",
   "name": "python",
   "nbconvert_exporter": "python",
   "pygments_lexer": "ipython3",
   "version": "3.10.6"
  }
 },
 "nbformat": 4,
 "nbformat_minor": 5
}
