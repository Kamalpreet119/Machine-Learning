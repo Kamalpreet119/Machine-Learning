{
 "cells": [
  {
   "cell_type": "code",
   "execution_count": 1,
   "id": "d4640e2c",
   "metadata": {},
   "outputs": [],
   "source": [
    "import numpy as np\n",
    "import pandas as pd\n",
    "import matplotlib.pyplot as plt"
   ]
  },
  {
   "cell_type": "code",
   "execution_count": 2,
   "id": "4d39c052",
   "metadata": {},
   "outputs": [
    {
     "data": {
      "text/html": [
       "<div>\n",
       "<style scoped>\n",
       "    .dataframe tbody tr th:only-of-type {\n",
       "        vertical-align: middle;\n",
       "    }\n",
       "\n",
       "    .dataframe tbody tr th {\n",
       "        vertical-align: top;\n",
       "    }\n",
       "\n",
       "    .dataframe thead th {\n",
       "        text-align: right;\n",
       "    }\n",
       "</style>\n",
       "<table border=\"1\" class=\"dataframe\">\n",
       "  <thead>\n",
       "    <tr style=\"text-align: right;\">\n",
       "      <th></th>\n",
       "      <th>Column</th>\n",
       "      <th>Dtype</th>\n",
       "    </tr>\n",
       "  </thead>\n",
       "  <tbody>\n",
       "    <tr>\n",
       "      <th>0</th>\n",
       "      <td>Flow Duration</td>\n",
       "      <td>int32</td>\n",
       "    </tr>\n",
       "    <tr>\n",
       "      <th>1</th>\n",
       "      <td>Tot Fwd Pkts</td>\n",
       "      <td>int32</td>\n",
       "    </tr>\n",
       "    <tr>\n",
       "      <th>2</th>\n",
       "      <td>Tot Bwd Pkts</td>\n",
       "      <td>int32</td>\n",
       "    </tr>\n",
       "    <tr>\n",
       "      <th>3</th>\n",
       "      <td>TotLen Fwd Pkts</td>\n",
       "      <td>int32</td>\n",
       "    </tr>\n",
       "    <tr>\n",
       "      <th>4</th>\n",
       "      <td>TotLen Bwd Pkts</td>\n",
       "      <td>int32</td>\n",
       "    </tr>\n",
       "    <tr>\n",
       "      <th>...</th>\n",
       "      <td>...</td>\n",
       "      <td>...</td>\n",
       "    </tr>\n",
       "    <tr>\n",
       "      <th>64</th>\n",
       "      <td>Idle Mean</td>\n",
       "      <td>float32</td>\n",
       "    </tr>\n",
       "    <tr>\n",
       "      <th>65</th>\n",
       "      <td>Idle Std</td>\n",
       "      <td>float32</td>\n",
       "    </tr>\n",
       "    <tr>\n",
       "      <th>66</th>\n",
       "      <td>Idle Max</td>\n",
       "      <td>int32</td>\n",
       "    </tr>\n",
       "    <tr>\n",
       "      <th>67</th>\n",
       "      <td>Idle Min</td>\n",
       "      <td>int32</td>\n",
       "    </tr>\n",
       "    <tr>\n",
       "      <th>68</th>\n",
       "      <td>Label</td>\n",
       "      <td>object</td>\n",
       "    </tr>\n",
       "  </tbody>\n",
       "</table>\n",
       "<p>69 rows × 2 columns</p>\n",
       "</div>"
      ],
      "text/plain": [
       "             Column    Dtype\n",
       "0     Flow Duration    int32\n",
       "1      Tot Fwd Pkts    int32\n",
       "2      Tot Bwd Pkts    int32\n",
       "3   TotLen Fwd Pkts    int32\n",
       "4   TotLen Bwd Pkts    int32\n",
       "..              ...      ...\n",
       "64        Idle Mean  float32\n",
       "65         Idle Std  float32\n",
       "66         Idle Max    int32\n",
       "67         Idle Min    int32\n",
       "68            Label   object\n",
       "\n",
       "[69 rows x 2 columns]"
      ]
     },
     "metadata": {},
     "output_type": "display_data"
    }
   ],
   "source": [
    "df1=pd.read_csv(\"2018_Best_Dtypes.csv\")\n",
    "display(df1)"
   ]
  },
  {
   "cell_type": "code",
   "execution_count": 24,
   "id": "a46b38f6",
   "metadata": {},
   "outputs": [
    {
     "data": {
      "text/plain": [
       "(69, 2)"
      ]
     },
     "execution_count": 24,
     "metadata": {},
     "output_type": "execute_result"
    }
   ],
   "source": [
    "df1.shape"
   ]
  },
  {
   "cell_type": "code",
   "execution_count": 4,
   "id": "06cf3014",
   "metadata": {},
   "outputs": [
    {
     "data": {
      "text/plain": [
       "'Tot Bwd Pkts'"
      ]
     },
     "execution_count": 4,
     "metadata": {},
     "output_type": "execute_result"
    }
   ],
   "source": [
    "df1[\"Column\"][2]"
   ]
  },
  {
   "cell_type": "code",
   "execution_count": 25,
   "id": "9893b776",
   "metadata": {},
   "outputs": [
    {
     "data": {
      "text/html": [
       "<div>\n",
       "<style scoped>\n",
       "    .dataframe tbody tr th:only-of-type {\n",
       "        vertical-align: middle;\n",
       "    }\n",
       "\n",
       "    .dataframe tbody tr th {\n",
       "        vertical-align: top;\n",
       "    }\n",
       "\n",
       "    .dataframe thead th {\n",
       "        text-align: right;\n",
       "    }\n",
       "</style>\n",
       "<table border=\"1\" class=\"dataframe\">\n",
       "  <thead>\n",
       "    <tr style=\"text-align: right;\">\n",
       "      <th></th>\n",
       "      <th>Column</th>\n",
       "      <th>Dtype</th>\n",
       "    </tr>\n",
       "  </thead>\n",
       "  <tbody>\n",
       "    <tr>\n",
       "      <th>0</th>\n",
       "      <td>Flow Duration</td>\n",
       "      <td>int32</td>\n",
       "    </tr>\n",
       "    <tr>\n",
       "      <th>1</th>\n",
       "      <td>Tot Fwd Pkts</td>\n",
       "      <td>int32</td>\n",
       "    </tr>\n",
       "    <tr>\n",
       "      <th>2</th>\n",
       "      <td>Tot Bwd Pkts</td>\n",
       "      <td>int32</td>\n",
       "    </tr>\n",
       "    <tr>\n",
       "      <th>3</th>\n",
       "      <td>TotLen Fwd Pkts</td>\n",
       "      <td>int32</td>\n",
       "    </tr>\n",
       "    <tr>\n",
       "      <th>4</th>\n",
       "      <td>TotLen Bwd Pkts</td>\n",
       "      <td>int32</td>\n",
       "    </tr>\n",
       "  </tbody>\n",
       "</table>\n",
       "</div>"
      ],
      "text/plain": [
       "            Column  Dtype\n",
       "0    Flow Duration  int32\n",
       "1     Tot Fwd Pkts  int32\n",
       "2     Tot Bwd Pkts  int32\n",
       "3  TotLen Fwd Pkts  int32\n",
       "4  TotLen Bwd Pkts  int32"
      ]
     },
     "execution_count": 25,
     "metadata": {},
     "output_type": "execute_result"
    }
   ],
   "source": [
    "df1.head()"
   ]
  },
  {
   "cell_type": "code",
   "execution_count": 26,
   "id": "492456c5",
   "metadata": {},
   "outputs": [
    {
     "data": {
      "text/html": [
       "<div>\n",
       "<style scoped>\n",
       "    .dataframe tbody tr th:only-of-type {\n",
       "        vertical-align: middle;\n",
       "    }\n",
       "\n",
       "    .dataframe tbody tr th {\n",
       "        vertical-align: top;\n",
       "    }\n",
       "\n",
       "    .dataframe thead th {\n",
       "        text-align: right;\n",
       "    }\n",
       "</style>\n",
       "<table border=\"1\" class=\"dataframe\">\n",
       "  <thead>\n",
       "    <tr style=\"text-align: right;\">\n",
       "      <th></th>\n",
       "      <th>Column</th>\n",
       "      <th>Dtype</th>\n",
       "    </tr>\n",
       "  </thead>\n",
       "  <tbody>\n",
       "    <tr>\n",
       "      <th>64</th>\n",
       "      <td>Idle Mean</td>\n",
       "      <td>float32</td>\n",
       "    </tr>\n",
       "    <tr>\n",
       "      <th>65</th>\n",
       "      <td>Idle Std</td>\n",
       "      <td>float32</td>\n",
       "    </tr>\n",
       "    <tr>\n",
       "      <th>66</th>\n",
       "      <td>Idle Max</td>\n",
       "      <td>int32</td>\n",
       "    </tr>\n",
       "    <tr>\n",
       "      <th>67</th>\n",
       "      <td>Idle Min</td>\n",
       "      <td>int32</td>\n",
       "    </tr>\n",
       "    <tr>\n",
       "      <th>68</th>\n",
       "      <td>category</td>\n",
       "      <td>object</td>\n",
       "    </tr>\n",
       "  </tbody>\n",
       "</table>\n",
       "</div>"
      ],
      "text/plain": [
       "       Column    Dtype\n",
       "64  Idle Mean  float32\n",
       "65   Idle Std  float32\n",
       "66   Idle Max    int32\n",
       "67   Idle Min    int32\n",
       "68   category   object"
      ]
     },
     "execution_count": 26,
     "metadata": {},
     "output_type": "execute_result"
    }
   ],
   "source": [
    "df1.tail()"
   ]
  },
  {
   "cell_type": "code",
   "execution_count": 7,
   "id": "f7049aaf",
   "metadata": {},
   "outputs": [],
   "source": [
    "df1.loc[68,\"Column\"]=\"category\""
   ]
  },
  {
   "cell_type": "code",
   "execution_count": 28,
   "id": "e7500138",
   "metadata": {},
   "outputs": [
    {
     "data": {
      "text/html": [
       "<div>\n",
       "<style scoped>\n",
       "    .dataframe tbody tr th:only-of-type {\n",
       "        vertical-align: middle;\n",
       "    }\n",
       "\n",
       "    .dataframe tbody tr th {\n",
       "        vertical-align: top;\n",
       "    }\n",
       "\n",
       "    .dataframe thead th {\n",
       "        text-align: right;\n",
       "    }\n",
       "</style>\n",
       "<table border=\"1\" class=\"dataframe\">\n",
       "  <thead>\n",
       "    <tr style=\"text-align: right;\">\n",
       "      <th></th>\n",
       "      <th>Column</th>\n",
       "      <th>Dtype</th>\n",
       "    </tr>\n",
       "  </thead>\n",
       "  <tbody>\n",
       "    <tr>\n",
       "      <th>64</th>\n",
       "      <td>Idle Mean</td>\n",
       "      <td>float32</td>\n",
       "    </tr>\n",
       "    <tr>\n",
       "      <th>65</th>\n",
       "      <td>Idle Std</td>\n",
       "      <td>float32</td>\n",
       "    </tr>\n",
       "    <tr>\n",
       "      <th>66</th>\n",
       "      <td>Idle Max</td>\n",
       "      <td>int32</td>\n",
       "    </tr>\n",
       "    <tr>\n",
       "      <th>67</th>\n",
       "      <td>Idle Min</td>\n",
       "      <td>int32</td>\n",
       "    </tr>\n",
       "    <tr>\n",
       "      <th>68</th>\n",
       "      <td>category</td>\n",
       "      <td>object</td>\n",
       "    </tr>\n",
       "  </tbody>\n",
       "</table>\n",
       "</div>"
      ],
      "text/plain": [
       "       Column    Dtype\n",
       "64  Idle Mean  float32\n",
       "65   Idle Std  float32\n",
       "66   Idle Max    int32\n",
       "67   Idle Min    int32\n",
       "68   category   object"
      ]
     },
     "execution_count": 28,
     "metadata": {},
     "output_type": "execute_result"
    }
   ],
   "source": [
    "df1.tail()"
   ]
  },
  {
   "cell_type": "code",
   "execution_count": 27,
   "id": "0828da41",
   "metadata": {},
   "outputs": [
    {
     "name": "stdout",
     "output_type": "stream",
     "text": [
      "{'Flow Duration': 'int32', 'Tot Fwd Pkts': 'int32', 'Tot Bwd Pkts': 'int32', 'TotLen Fwd Pkts': 'int32', 'TotLen Bwd Pkts': 'int32', 'Fwd Pkt Len Max': 'int32', 'Fwd Pkt Len Min': 'int16', 'Fwd Pkt Len Mean': 'float16', 'Fwd Pkt Len Std': 'float16', 'Bwd Pkt Len Max': 'int32', 'Bwd Pkt Len Min': 'int16', 'Bwd Pkt Len Mean': 'float16', 'Bwd Pkt Len Std': 'float16', 'Flow Byts/s': 'float32', 'Flow Pkts/s': 'float32', 'Flow IAT Mean': 'float32', 'Flow IAT Std': 'float32', 'Flow IAT Max': 'int32', 'Flow IAT Min': 'int32', 'Fwd IAT Tot': 'int32', 'Fwd IAT Mean': 'float32', 'Fwd IAT Std': 'float32', 'Fwd IAT Max': 'int32', 'Fwd IAT Min': 'int32', 'Bwd IAT Tot': 'int32', 'Bwd IAT Mean': 'float32', 'Bwd IAT Std': 'float32', 'Bwd IAT Max': 'int32', 'Bwd IAT Min': 'int32', 'Fwd PSH Flags': 'int8', 'Fwd URG Flags': 'int8', 'Fwd Header Len': 'int32', 'Bwd Header Len': 'int32', 'Fwd Pkts/s': 'float32', 'Bwd Pkts/s': 'float32', 'Pkt Len Min': 'int16', 'Pkt Len Max': 'int32', 'Pkt Len Mean': 'float16', 'Pkt Len Std': 'float16', 'Pkt Len Var': 'float32', 'FIN Flag Cnt': 'int8', 'SYN Flag Cnt': 'int8', 'RST Flag Cnt': 'int8', 'PSH Flag Cnt': 'int8', 'ACK Flag Cnt': 'int8', 'URG Flag Cnt': 'int8', 'CWE Flag Count': 'int8', 'ECE Flag Cnt': 'int8', 'Down/Up Ratio': 'int16', 'Pkt Size Avg': 'float16', 'Fwd Seg Size Avg': 'float16', 'Bwd Seg Size Avg': 'float16', 'Subflow Fwd Pkts': 'int32', 'Subflow Fwd Byts': 'int32', 'Subflow Bwd Pkts': 'int32', 'Subflow Bwd Byts': 'int32', 'Init Fwd Win Byts': 'int32', 'Init Bwd Win Byts': 'int32', 'Fwd Act Data Pkts': 'int32', 'Fwd Seg Size Min': 'int8', 'Active Mean': 'float32', 'Active Std': 'float32', 'Active Max': 'int32', 'Active Min': 'int32', 'Idle Mean': 'float32', 'Idle Std': 'float32', 'Idle Max': 'int32', 'Idle Min': 'int32', 'category': 'object'}\n"
     ]
    }
   ],
   "source": [
    "dict1={}\n",
    "for i in range(df1.shape[0]):\n",
    "    dict1[df1[\"Column\"][i]]=df1[\"Dtype\"][i]\n",
    "print(dict1)"
   ]
  },
  {
   "cell_type": "code",
   "execution_count": 9,
   "id": "2c2cfe0c",
   "metadata": {},
   "outputs": [
    {
     "data": {
      "text/html": [
       "<div>\n",
       "<style scoped>\n",
       "    .dataframe tbody tr th:only-of-type {\n",
       "        vertical-align: middle;\n",
       "    }\n",
       "\n",
       "    .dataframe tbody tr th {\n",
       "        vertical-align: top;\n",
       "    }\n",
       "\n",
       "    .dataframe thead th {\n",
       "        text-align: right;\n",
       "    }\n",
       "</style>\n",
       "<table border=\"1\" class=\"dataframe\">\n",
       "  <thead>\n",
       "    <tr style=\"text-align: right;\">\n",
       "      <th></th>\n",
       "      <th>Flow Duration</th>\n",
       "      <th>Tot Fwd Pkts</th>\n",
       "      <th>Tot Bwd Pkts</th>\n",
       "      <th>TotLen Fwd Pkts</th>\n",
       "      <th>TotLen Bwd Pkts</th>\n",
       "      <th>Fwd Pkt Len Max</th>\n",
       "      <th>Fwd Pkt Len Min</th>\n",
       "      <th>Fwd Pkt Len Mean</th>\n",
       "      <th>Fwd Pkt Len Std</th>\n",
       "      <th>Bwd Pkt Len Max</th>\n",
       "      <th>...</th>\n",
       "      <th>Fwd Seg Size Min</th>\n",
       "      <th>Active Mean</th>\n",
       "      <th>Active Std</th>\n",
       "      <th>Active Max</th>\n",
       "      <th>Active Min</th>\n",
       "      <th>Idle Mean</th>\n",
       "      <th>Idle Std</th>\n",
       "      <th>Idle Max</th>\n",
       "      <th>Idle Min</th>\n",
       "      <th>category</th>\n",
       "    </tr>\n",
       "  </thead>\n",
       "  <tbody>\n",
       "    <tr>\n",
       "      <th>0</th>\n",
       "      <td>119646801</td>\n",
       "      <td>17</td>\n",
       "      <td>16</td>\n",
       "      <td>597</td>\n",
       "      <td>768</td>\n",
       "      <td>293</td>\n",
       "      <td>0</td>\n",
       "      <td>35.125000</td>\n",
       "      <td>97.0625</td>\n",
       "      <td>384</td>\n",
       "      <td>...</td>\n",
       "      <td>20</td>\n",
       "      <td>45580.5</td>\n",
       "      <td>32287.847656</td>\n",
       "      <td>131880</td>\n",
       "      <td>32165</td>\n",
       "      <td>9922286.0</td>\n",
       "      <td>281712.5625</td>\n",
       "      <td>10014561</td>\n",
       "      <td>9030908</td>\n",
       "      <td>0</td>\n",
       "    </tr>\n",
       "    <tr>\n",
       "      <th>1</th>\n",
       "      <td>375</td>\n",
       "      <td>2</td>\n",
       "      <td>1</td>\n",
       "      <td>38</td>\n",
       "      <td>0</td>\n",
       "      <td>38</td>\n",
       "      <td>0</td>\n",
       "      <td>19.000000</td>\n",
       "      <td>26.8750</td>\n",
       "      <td>0</td>\n",
       "      <td>...</td>\n",
       "      <td>20</td>\n",
       "      <td>0.0</td>\n",
       "      <td>0.000000</td>\n",
       "      <td>0</td>\n",
       "      <td>0</td>\n",
       "      <td>0.0</td>\n",
       "      <td>0.0000</td>\n",
       "      <td>0</td>\n",
       "      <td>0</td>\n",
       "      <td>0</td>\n",
       "    </tr>\n",
       "    <tr>\n",
       "      <th>2</th>\n",
       "      <td>281</td>\n",
       "      <td>3</td>\n",
       "      <td>0</td>\n",
       "      <td>46</td>\n",
       "      <td>0</td>\n",
       "      <td>46</td>\n",
       "      <td>0</td>\n",
       "      <td>15.335938</td>\n",
       "      <td>26.5625</td>\n",
       "      <td>0</td>\n",
       "      <td>...</td>\n",
       "      <td>20</td>\n",
       "      <td>0.0</td>\n",
       "      <td>0.000000</td>\n",
       "      <td>0</td>\n",
       "      <td>0</td>\n",
       "      <td>0.0</td>\n",
       "      <td>0.0000</td>\n",
       "      <td>0</td>\n",
       "      <td>0</td>\n",
       "      <td>0</td>\n",
       "    </tr>\n",
       "    <tr>\n",
       "      <th>3</th>\n",
       "      <td>99999555</td>\n",
       "      <td>2</td>\n",
       "      <td>2</td>\n",
       "      <td>16</td>\n",
       "      <td>0</td>\n",
       "      <td>8</td>\n",
       "      <td>8</td>\n",
       "      <td>8.000000</td>\n",
       "      <td>0.0000</td>\n",
       "      <td>0</td>\n",
       "      <td>...</td>\n",
       "      <td>32</td>\n",
       "      <td>1.0</td>\n",
       "      <td>0.000000</td>\n",
       "      <td>1</td>\n",
       "      <td>1</td>\n",
       "      <td>99999552.0</td>\n",
       "      <td>0.0000</td>\n",
       "      <td>99999553</td>\n",
       "      <td>99999553</td>\n",
       "      <td>4</td>\n",
       "    </tr>\n",
       "    <tr>\n",
       "      <th>4</th>\n",
       "      <td>10070086</td>\n",
       "      <td>4</td>\n",
       "      <td>4</td>\n",
       "      <td>379</td>\n",
       "      <td>408</td>\n",
       "      <td>379</td>\n",
       "      <td>0</td>\n",
       "      <td>94.750000</td>\n",
       "      <td>189.5000</td>\n",
       "      <td>408</td>\n",
       "      <td>...</td>\n",
       "      <td>20</td>\n",
       "      <td>0.0</td>\n",
       "      <td>0.000000</td>\n",
       "      <td>0</td>\n",
       "      <td>0</td>\n",
       "      <td>0.0</td>\n",
       "      <td>0.0000</td>\n",
       "      <td>0</td>\n",
       "      <td>0</td>\n",
       "      <td>0</td>\n",
       "    </tr>\n",
       "  </tbody>\n",
       "</table>\n",
       "<p>5 rows × 69 columns</p>\n",
       "</div>"
      ],
      "text/plain": [
       "   Flow Duration  Tot Fwd Pkts  Tot Bwd Pkts  TotLen Fwd Pkts  \\\n",
       "0      119646801            17            16              597   \n",
       "1            375             2             1               38   \n",
       "2            281             3             0               46   \n",
       "3       99999555             2             2               16   \n",
       "4       10070086             4             4              379   \n",
       "\n",
       "   TotLen Bwd Pkts  Fwd Pkt Len Max  Fwd Pkt Len Min  Fwd Pkt Len Mean  \\\n",
       "0              768              293                0         35.125000   \n",
       "1                0               38                0         19.000000   \n",
       "2                0               46                0         15.335938   \n",
       "3                0                8                8          8.000000   \n",
       "4              408              379                0         94.750000   \n",
       "\n",
       "   Fwd Pkt Len Std  Bwd Pkt Len Max  ...  Fwd Seg Size Min  Active Mean  \\\n",
       "0          97.0625              384  ...                20      45580.5   \n",
       "1          26.8750                0  ...                20          0.0   \n",
       "2          26.5625                0  ...                20          0.0   \n",
       "3           0.0000                0  ...                32          1.0   \n",
       "4         189.5000              408  ...                20          0.0   \n",
       "\n",
       "     Active Std  Active Max  Active Min   Idle Mean     Idle Std  Idle Max  \\\n",
       "0  32287.847656      131880       32165   9922286.0  281712.5625  10014561   \n",
       "1      0.000000           0           0         0.0       0.0000         0   \n",
       "2      0.000000           0           0         0.0       0.0000         0   \n",
       "3      0.000000           1           1  99999552.0       0.0000  99999553   \n",
       "4      0.000000           0           0         0.0       0.0000         0   \n",
       "\n",
       "   Idle Min  category  \n",
       "0   9030908         0  \n",
       "1         0         0  \n",
       "2         0         0  \n",
       "3  99999553         4  \n",
       "4         0         0  \n",
       "\n",
       "[5 rows x 69 columns]"
      ]
     },
     "execution_count": 9,
     "metadata": {},
     "output_type": "execute_result"
    }
   ],
   "source": [
    "df2=pd.read_csv(\"Data10.csv\",dtype=dict1)\n",
    "df2.head()"
   ]
  },
  {
   "cell_type": "code",
   "execution_count": 29,
   "id": "9ea7d271",
   "metadata": {},
   "outputs": [
    {
     "name": "stdout",
     "output_type": "stream",
     "text": [
      "Memory usage of the DataFrame=267.22MB\n"
     ]
    }
   ],
   "source": [
    "memoryUsageInMB=df2.memory_usage(deep=True).sum()/(1024**2) \n",
    "print(\"Memory usage of the DataFrame=\"+str(f\"{memoryUsageInMB:.2f}\")+\"MB\")"
   ]
  },
  {
   "cell_type": "code",
   "execution_count": 11,
   "id": "8424c563",
   "metadata": {},
   "outputs": [
    {
     "data": {
      "text/plain": [
       "0    901347\n",
       "3     77595\n",
       "4     19657\n",
       "1     14453\n",
       "5     11382\n",
       "2      9410\n",
       "6        87\n",
       "Name: category, dtype: int64"
      ]
     },
     "execution_count": 11,
     "metadata": {},
     "output_type": "execute_result"
    }
   ],
   "source": [
    "df2[\"category\"].value_counts()"
   ]
  },
  {
   "cell_type": "code",
   "execution_count": 12,
   "id": "b9692d22",
   "metadata": {},
   "outputs": [],
   "source": [
    "X=df2.drop(columns=[\"category\"])\n",
    "y=df2[\"category\"]"
   ]
  },
  {
   "cell_type": "code",
   "execution_count": 13,
   "id": "8bdd69cb",
   "metadata": {},
   "outputs": [
    {
     "name": "stdout",
     "output_type": "stream",
     "text": [
      "X_train Shape= (723751, 68)\n",
      "X_test Shape= (310180, 68)\n",
      "y_train Shape= (723751,)\n",
      "y_test Shape= (310180,)\n"
     ]
    }
   ],
   "source": [
    "from sklearn.model_selection import train_test_split\n",
    "X_train,X_test,y_train,y_test=train_test_split(X,y,test_size=0.3,stratify=y,random_state=42)\n",
    "#stratify=y->Uses Class Label y for Stratification\n",
    "print(\"X_train Shape=\",X_train.shape)\n",
    "print(\"X_test Shape=\",X_test.shape)\n",
    "print(\"y_train Shape=\",y_train.shape)\n",
    "print(\"y_test Shape=\",y_test.shape)"
   ]
  },
  {
   "cell_type": "code",
   "execution_count": 30,
   "id": "8028cd36",
   "metadata": {},
   "outputs": [
    {
     "data": {
      "text/plain": [
       "0    630942\n",
       "3     54317\n",
       "4     13760\n",
       "1     10117\n",
       "5      7967\n",
       "2      6587\n",
       "6        61\n",
       "Name: category, dtype: int64"
      ]
     },
     "execution_count": 30,
     "metadata": {},
     "output_type": "execute_result"
    }
   ],
   "source": [
    "y_train.value_counts()"
   ]
  },
  {
   "cell_type": "code",
   "execution_count": 15,
   "id": "4e6526b9",
   "metadata": {},
   "outputs": [],
   "source": [
    "from sklearn.preprocessing import MinMaxScaler\n",
    "scaler=MinMaxScaler()\n",
    "X_train_scaled=scaler.fit_transform(X_train)\n",
    "X_test_scaled=scaler.transform(X_test)"
   ]
  },
  {
   "cell_type": "code",
   "execution_count": 16,
   "id": "d5c38ff8",
   "metadata": {},
   "outputs": [],
   "source": [
    "from sklearn.decomposition import PCA\n",
    "pca=PCA(n_components=0.95,random_state=42)\n",
    "X_train_pca=pca.fit_transform(X_train_scaled)\n",
    "X_test_pca=pca.transform(X_test_scaled)"
   ]
  },
  {
   "cell_type": "code",
   "execution_count": 17,
   "id": "42498d68",
   "metadata": {},
   "outputs": [
    {
     "name": "stdout",
     "output_type": "stream",
     "text": [
      "[0.38561526 0.20829335 0.11630425 0.07219939 0.06079518 0.0462549\n",
      " 0.03275466 0.02329973 0.01637854]\n",
      "1st PCA Column variance= 0.3856152608175302\n",
      "2nd PCA Column variance= 0.20829334522409826\n"
     ]
    }
   ],
   "source": [
    "print(pca.explained_variance_ratio_)\n",
    "arr=pca.explained_variance_ratio_\n",
    "for i in range(2):\n",
    "    if(i==0):\n",
    "        print(str(i+1)+\"st PCA Column variance=\",arr[i])\n",
    "    if(i==1):\n",
    "        print(str(i+1)+\"nd PCA Column variance=\",arr[i])"
   ]
  },
  {
   "cell_type": "code",
   "execution_count": 18,
   "id": "cfe569ae",
   "metadata": {},
   "outputs": [],
   "source": [
    "from sklearn.tree import DecisionTreeClassifier\n",
    "import timeit"
   ]
  },
  {
   "cell_type": "code",
   "execution_count": 31,
   "id": "ce4d3c59",
   "metadata": {},
   "outputs": [],
   "source": [
    "model=DecisionTreeClassifier()\n",
    "y_train=y_train.astype('int')\n",
    "y_test=y_test.astype('int')\n",
    "trainingstarttime=timeit.default_timer()\n",
    "model.fit(X_train_pca,y_train)\n",
    "trainingtime=timeit.default_timer()-trainingstarttime"
   ]
  },
  {
   "cell_type": "code",
   "execution_count": 32,
   "id": "11f3bd79",
   "metadata": {},
   "outputs": [],
   "source": [
    "testingstarttime=timeit.default_timer()\n",
    "y_pred=model.predict(X_test_pca)\n",
    "testingtime=timeit.default_timer()-testingstarttime"
   ]
  },
  {
   "cell_type": "code",
   "execution_count": 33,
   "id": "ab08d025",
   "metadata": {},
   "outputs": [
    {
     "name": "stdout",
     "output_type": "stream",
     "text": [
      "Training Time= 51.274236700031906 seconds\n",
      "Testing Time= 0.18524030002299696 seconds\n"
     ]
    }
   ],
   "source": [
    "print(\"Training Time=\",trainingtime,\"seconds\")\n",
    "print(\"Testing Time=\",testingtime,\"seconds\")"
   ]
  },
  {
   "cell_type": "code",
   "execution_count": 34,
   "id": "491d9777",
   "metadata": {},
   "outputs": [
    {
     "name": "stdout",
     "output_type": "stream",
     "text": [
      "Confusion Matrix=\n",
      " [[267475     17      0     38     25   2839     11]\n",
      " [    20   4316      0      0      0      0      0]\n",
      " [     1      0   2820      0      2      0      0]\n",
      " [    15      0      0  23263      0      0      0]\n",
      " [    17      0      0      0   5880      0      0]\n",
      " [  3044      0      0      2      0    368      1]\n",
      " [     6      2      0      0      0      0     18]]\n",
      "Accuracy= 0.9805274356825069\n",
      "Precision= 0.9799456315656804\n",
      "Recall= 0.9805274356825069\n",
      "F-2 Score= 0.9804100502365634\n"
     ]
    }
   ],
   "source": [
    "from sklearn.metrics import accuracy_score,confusion_matrix,precision_score,recall_score,fbeta_score\n",
    "conf_matrix=confusion_matrix(y_test,y_pred)\n",
    "\n",
    "accuracy=accuracy_score(y_test,y_pred)\n",
    "precision=precision_score(y_test,y_pred,average='weighted')\n",
    "recall=recall_score(y_test,y_pred,average='weighted')\n",
    "f2_score=fbeta_score(y_test,y_pred,beta=2,average='weighted')\n",
    "\n",
    "print(\"Confusion Matrix=\\n\",conf_matrix)\n",
    "print(\"Accuracy=\",accuracy)\n",
    "print(\"Precision=\",precision)\n",
    "print(\"Recall=\",recall)\n",
    "print(\"F-2 Score=\",f2_score)"
   ]
  },
  {
   "cell_type": "code",
   "execution_count": null,
   "id": "c981f4e4",
   "metadata": {},
   "outputs": [],
   "source": []
  }
 ],
 "metadata": {
  "kernelspec": {
   "display_name": "Python 3 (ipykernel)",
   "language": "python",
   "name": "python3"
  },
  "language_info": {
   "codemirror_mode": {
    "name": "ipython",
    "version": 3
   },
   "file_extension": ".py",
   "mimetype": "text/x-python",
   "name": "python",
   "nbconvert_exporter": "python",
   "pygments_lexer": "ipython3",
   "version": "3.10.6"
  }
 },
 "nbformat": 4,
 "nbformat_minor": 5
}
